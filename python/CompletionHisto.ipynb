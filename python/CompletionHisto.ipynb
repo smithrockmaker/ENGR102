{
 "cells": [
  {
   "cell_type": "markdown",
   "metadata": {},
   "source": [
    "# Completion Histogram\n",
    "## ENGR 102 COCC\n",
    "### Bruce Emerson 3/3/2025\n",
    "\n",
    "This notebook is meant to generate the data representation I need for an A3 problem solving activity in class.\n",
    "\n",
    "[Week 9 Content](https://github.com/smithrockmaker/ENGR102/blob/main/Classroom/Week9Content.md) \n",
    "\n",
    "What I'm trying to represent here is the distribution of completion times for students in the class. What can we do to improve self starting and earlier completion of activities."
   ]
  },
  {
   "cell_type": "markdown",
   "metadata": {},
   "source": [
    "## Dependencies\n",
    "\n",
    "As we talked about previously there are a number of what are called libraries that allow us to add tools to our notebooks. These libraries only need to be accessed once in a given notebook. The general approach is to load any needed tools at the begining of the notebook. These libraries themselve use other libraries which are called dependencies. This is how we load the various libraries of python tools that are needed for the particular work we are undertaking. \n",
    "\n",
    "To access commands from these libraries we have to type the entire name of the library which is often aggravating and time consuming. More typically we give the imported library an \"alias' which is a shorthand for the long library name. The language to bring the library onboard and to give it an alias is ```import [library] as [alias]```.\n",
    "  \n",
    "```numpy``` is a numerical tools library - often imported as np. ```numpy``` also contains the statistical tools that we will use in this lab. There are other libraries dedicated to statistical tools but 'numpy' has everything we need.  \n",
    "```matplotlib```is a 'MATLAB like' library. \n",
    "```matplotlib.pyplot``` is often imported as ```plt``` to make it easier to use. ```matplotlib``` has the plotting tools that we need for this lab.  \n",
    "\n",
    "The following code cell will need to be run first before any other code cells. This sometimes takes a while because a lot of code is being loaded during this process."
   ]
  },
  {
   "cell_type": "code",
   "execution_count": 27,
   "metadata": {},
   "outputs": [],
   "source": [
    "import numpy as np\n",
    "import matplotlib.mlab as mlab\n",
    "import matplotlib.pyplot as plt\n"
   ]
  },
  {
   "cell_type": "markdown",
   "metadata": {},
   "source": [
    "## Lists (Vectors)\n",
    "\n",
    "We usually talk about our data as a list of data points. In spreadsheets we enter data in a set of successive cells in a column or a row. There is a creature in python called a list which is a way of accomplishing a similar task.  \n",
    "\n",
    "[python documentation: list](https://docs.python.org/3.7/tutorial/datastructures.html) This link to the python documentation for lists will bury you in features and uses of lists. It is easy and common to overwhelmed by the deluge of information which is why these notebooks are created. I include this reference link so you could explore more deeply if you have time to do so but what you actually need to understand for this lab is contained within this notebook.\n",
    "\n",
    "Our lists need names so we can work with them later on. As we have disucssed it is best practice to use names that have relevant meaning. Note the square brackets and the comma as a separator between data points. The data here is made up so you will surely replace it with your data!\n",
    "\n",
    "#### This Data:\n",
    "\n",
    "The raw data is encoded with the month followed by the day. 125 is Jan 25. This makes it easy to enter the data. It will make it tougher to histogram because of the inconsistency in the numerical values. I will have to work this out later. See below....\n",
    "\n",
    "### Filter Data\n",
    "\n",
    "The format I used to input the data makes it reasonably convenient to do so but is terrible for plotting. I need to filter this data so that it represents days from posting to first submission (that's what is of interest at the moment.\n",
    "\n",
    "**Step 1: Get number of days**\n",
    "\n",
    "Assuming the post data is the earliest possible submission date we can subtract this value from all values to give number of days until submission. This obviously only works for the same month as the post date. All other dates will be offset by around 70 due to my format choices.\n",
    "\n",
    "**Step 2: Filter for Unsubmitted**\n",
    "\n",
    "At this point any unsubmitted assignments will be relatively large and the same. I want to find these, replace them with 0, then find the max of assignments turned in, then reset the unsubmitted values to 10 more than the current max of submitted assignments. This should give me a bar at the end of the histogram that holds only these values."
   ]
  },
  {
   "cell_type": "code",
   "execution_count": 133,
   "metadata": {},
   "outputs": [
    {
     "name": "stdout",
     "output_type": "stream",
     "text": [
      "data points 1:  26\n",
      "data1Max:  44\n",
      "data1:  [9, 14, 13, 14, 69, 4, 9, 11, 22, 5, 5, 9, 7, 14, 21, 9, 10, 69, 13, 69, 69, 34, 28, 44, 13, 43]\n",
      "daysLate1:  [9, 14, 13, 14, 69, 4, 9, 11, 22, 5, 5, 9, 7, 14, 21, 9, 10, 69, 13, 69, 69, 34, 28, 44, 13, 43]\n"
     ]
    }
   ],
   "source": [
    "# data entry - First Set\n",
    "data1 = [122,127,126,127,400,117,122,124,204,118,118,122,120,127,203,122,123,400,126,400,400,216,210,226,126,225]\n",
    "data1posted = 113\n",
    "\n",
    "# converting data format into days after post date that assignment submitted\n",
    "\n",
    "daysLate1 = data1\n",
    "lenMonth1 = 31\n",
    "offsetMonth1 = 100 - lenMonth1\n",
    "lenMonth2 = 28\n",
    "offsetMonth2 = 100 - lenMonth2\n",
    "\n",
    "for i in range(0, len(daysLate1)):\n",
    "    daysLate1[i] = daysLate1[i]-data1posted\n",
    "    if daysLate1[i] > lenMonth1: # more days than first month\n",
    "        daysLate1[i] = daysLate1[i]- offsetMonth1\n",
    "        if daysLate1[i] > (lenMonth1+lenMonth2): # more days than first 2 months\n",
    "            daysLate1[i] = daysLate1[i]- offsetMonth2\n",
    "\n",
    "# Filtering out the undubmitted data points and substituting a more useful value\n",
    "\n",
    "data1Unsub = max(daysLate1)\n",
    "\n",
    "for i in range(0, len(daysLate1)):\n",
    "    if daysLate1[i] == data1Unsub:\n",
    "        daysLate1[i] = -1\n",
    "\n",
    "data1Max = max(daysLate1) # maximum of submitted assignments\n",
    "\n",
    "for i in range(0, len(daysLate1)):\n",
    "    if daysLate1[i] == -1:\n",
    "        daysLate1[i] = 69\n",
    "\n",
    "print(\"data points 1: \", len(daysLate1))\n",
    "print(\"data1Max: \",data1Max)\n",
    "print(\"data1: \", data1)\n",
    "print(\"daysLate1: \", daysLate1)"
   ]
  },
  {
   "cell_type": "code",
   "execution_count": 143,
   "metadata": {},
   "outputs": [
    {
     "name": "stdout",
     "output_type": "stream",
     "text": [
      "data points 2:  26\n",
      "data2Max:  37\n",
      "data2:  [30, 4, 6, 7, 69, 8, 7, 4, 15, 31, 34, 34, 37, 15, 3, 9, 9, 69, 13, 69, 30, 27, 21, 69, 24, 30]\n",
      "daysLate2:  [30, 4, 6, 7, 69, 8, 7, 4, 15, 31, 34, 34, 37, 15, 3, 9, 9, 69, 13, 69, 30, 27, 21, 69, 24, 30]\n"
     ]
    }
   ],
   "source": [
    "# data entry - Second Set\n",
    "data2 = [219,124,126,127,400,128,127,124,204,220,223,223,226,204,123,129,129,400,202,400,219,216,210,400,213,219]\n",
    "data2posted = 120\n",
    "\n",
    "# converting data format into days after post date that assignment submitted\n",
    "\n",
    "daysLate2 = data2\n",
    "lenMonth1 = 31\n",
    "offsetMonth1 = 100 - lenMonth1\n",
    "lenMonth2 = 28\n",
    "offsetMonth2 = 100 - lenMonth2\n",
    "\n",
    "for i in range(0, len(daysLate2)):\n",
    "    daysLate2[i] = daysLate2[i]-data2posted\n",
    "    if daysLate2[i] > lenMonth1: # more days than first month\n",
    "        daysLate2[i] = daysLate2[i]- offsetMonth1\n",
    "        if daysLate2[i] > (lenMonth1+lenMonth2): # more days than first 2 months\n",
    "            daysLate2[i] = daysLate2[i]- offsetMonth2\n",
    "\n",
    "# Filtering out the undubmitted data points and substituting a more useful value\n",
    "\n",
    "data2Unsub = max(daysLate2)\n",
    "\n",
    "for i in range(0, len(daysLate2)):\n",
    "    if daysLate2[i] == data2Unsub:\n",
    "        daysLate2[i] = -1\n",
    "\n",
    "data2Max = max(daysLate2) # maximum of submitted assignments\n",
    "\n",
    "for i in range(0, len(daysLate2)):\n",
    "    if daysLate2[i] == -1:\n",
    "        daysLate2[i] = 69\n",
    "\n",
    "print(\"data points 2: \", len(daysLate2))\n",
    "print(\"data2Max: \",data2Max)\n",
    "print(\"data2: \", data2)\n",
    "print(\"daysLate2: \", daysLate2)"
   ]
  },
  {
   "cell_type": "code",
   "execution_count": 145,
   "metadata": {},
   "outputs": [
    {
     "name": "stdout",
     "output_type": "stream",
     "text": [
      "data points 3:  26\n",
      "data3Max:  31\n",
      "data3:  [24, 17, 6, 17, 69, 10, 23, 17, 10, 23, 7, 5, 17, 10, 6, 31, 23, 69, 14, 69, 69, 30, 69, 69, 24, 24]\n",
      "daysLate3:  [24, 17, 6, 17, 69, 10, 23, 17, 10, 23, 7, 5, 17, 10, 6, 31, 23, 69, 14, 69, 69, 30, 69, 69, 24, 24]\n"
     ]
    }
   ],
   "source": [
    "# data entry - Third Set\n",
    "data3 = [219,212,201,212,400,205,218,212,205,218,202,131,212,205,201,226,218,400,209,400,400,225,400,400,219,219]\n",
    "data3posted = 126\n",
    "\n",
    "# converting data format into days after post date that assignment submitted\n",
    "\n",
    "daysLate3 = data3\n",
    "lenMonth1 = 31\n",
    "offsetMonth1 = 100 - lenMonth1\n",
    "lenMonth2 = 28\n",
    "offsetMonth2 = 100 - lenMonth2\n",
    "\n",
    "for i in range(0, len(daysLate3)):\n",
    "    daysLate3[i] = daysLate3[i]-data3posted\n",
    "    if daysLate3[i] > lenMonth1: # more days than first month\n",
    "        daysLate3[i] = daysLate3[i]- offsetMonth1\n",
    "        if daysLate3[i] > (lenMonth1+lenMonth2): # more days than first 2 months\n",
    "            daysLate3[i] = daysLate3[i]- offsetMonth2\n",
    "\n",
    "# Filtering out the undubmitted data points and substituting a more useful value\n",
    "\n",
    "data3Unsub = max(daysLate3)\n",
    "\n",
    "for i in range(0, len(daysLate3)):\n",
    "    if daysLate3[i] == data3Unsub:\n",
    "        daysLate3[i] = -1\n",
    "\n",
    "data3Max = max(daysLate3) # maximum of submitted assignments\n",
    "\n",
    "for i in range(0, len(daysLate3)):\n",
    "    if daysLate3[i] == -1:\n",
    "        daysLate3[i] = 69\n",
    "\n",
    "print(\"data points 3: \", len(daysLate3))\n",
    "print(\"data3Max: \",data3Max)\n",
    "print(\"data3: \", data3)\n",
    "print(\"daysLate3: \", daysLate3)"
   ]
  },
  {
   "cell_type": "markdown",
   "metadata": {},
   "source": [
    "## Basic Histogram\n",
    "\n",
    "From a structural point of view the plt.hist command creates the histogram which is displayed using the plt.show() command. THis is how many coding languages work. The code creates objects, in this case the histogram, and then there is a command that displays the object that is created. I don't want you to get down in the weeds about how that works this week. We will slowly move in that direction. As the plt.hist command generates the plot it also returns three bits of information - the heights of each bin (array), the edges of each bin (array), and the patch objects that are the bars that are plotted. For now we can ignore these information items that are returned from the ```plt.hist``` command. \n",
    "\n",
    "[matplotlib.pyplot.hist](https://matplotlib.org/3.1.1/api/_as_gen/matplotlib.pyplot.hist.html)  \n"
   ]
  },
  {
   "cell_type": "markdown",
   "metadata": {},
   "source": [
    "## Histogram Styles\n",
    "\n",
    "In the ```plt.hist``` command there are a number of arguments that can be provided to control the features of the histogram that is produced. In the code I have broken each argument out onto an individual line to make them more clear. \n",
    "```\n",
    "height, bins, patches = plt.hist(data1,\n",
    "                                 num_bins,\n",
    "                                 fullrange,\n",
    "                                 histtype = \"bar\",\n",
    "                                 rwidth = 0.9,\n",
    "                                 color=\"tab:blue\",\n",
    "                                 alpha= .7\n",
    "                                )\n",
    "```\n",
    "\n",
    "```data1``` is the name of the data list (vector) I want to generate the data from.  \n",
    "\n",
    "```num_bins``` is an integer that tells the command how many different divisions I want across the possible value of my histogram. You will explore different values for num_bins to understand the impact of this argument on the how the histogram looks.\n",
    "\n",
    "```bins = [0,7,14,21,28,35,42,49,56,63,70]``` Setting the second argument to a sequence defines the bin edges. Since weeks is a pretty good way to think about turning in assignments I will define bin edges out to 10 weeks. That should be a good first step.\n",
    "\n",
    "```fullrange``` is a sort vector [x_low,x_high] that defines the upper and lower bounds of your histogram. Notice you can leave space around the histogram or end up packing everything into the edges. This is **NOT** needed when the bin edges are fully defined.\n",
    "\n",
    "```histtype = \"barstacked\"``` tells the command what style\n",
    "The other options for 'histtype' are \"barstacked\", \"step\", and \"stepfilled\". The \"stepfilled\" style solves some of the consideration discussed above.\n",
    "\n",
    "```rwidth = 0.9``` sets proportional width of bars, setting to less than 1 separates bars that might be confused.\n",
    "\n",
    "```color=\"tab:blue\"``` allows us to choose the color for the histogram. In case you want to play here are the available colors--\n",
    "\n",
    "[plot colors](https://matplotlib.org/3.1.0/gallery/color/named_colors.html)\n",
    "\n",
    "```alpha= .7``` sets the density of the color plot. 0 is totally transparent and 1. is totally opaque. \n"
   ]
  },
  {
   "cell_type": "code",
   "execution_count": 137,
   "metadata": {},
   "outputs": [
    {
     "data": {
      "image/png": "[encoded data removed]",
      "text/plain": [
       "<Figure size 640x480 with 1 Axes>"
      ]
     },
     "metadata": {},
     "output_type": "display_data"
    }
   ],
   "source": [
    "binEdges = [0,7,14,21,28,35,42,49,56,63,70]\n",
    "\n",
    "height, bins, patches = plt.hist(daysLate1,\n",
    "                                 binEdges,\n",
    "                                 histtype = \"bar\",\n",
    "                                 rwidth = 0.9,\n",
    "                                 color=\"tab:blue\",\n",
    "                                 alpha= .6\n",
    "                                )\n",
    "                                \n",
    "plt.show()"
   ]
  },
  {
   "cell_type": "markdown",
   "metadata": {},
   "source": [
    "### In Case You're Curious....**NOT REQUIRED!**\n",
    "\n",
    "Many times I will include in the lab notebook examples of enhanced tools that go way beyond what I expect for the lab. If you have a coding background or you're just curious you can look through these examples to get a sense of some additional options. To be clear, there are truly remarkable things you can do in python plots with pyplot and the other tools in ```matplotlib```. The link below takes you to the ```matplotlib``` example gallery which is overwhelming.\n",
    "\n",
    "[Matplotlib](https://matplotlib.org/3.1.1/gallery/index.html)\n",
    "\n",
    "#### This Example:\n",
    "\n",
    "**Assign a color name:** \n",
    "\n",
    "As I make the plot more complex I will want to use the same color for everything associated with data set 1 and a different color for data set 2. In each plot element I will have to tell the plotting code what color to use. If I then change the color I have to go manually change it in multiple lines of code. That's aggravating. It's much easier to create a variable that 'holds' the color that I want. For those who are new to coding this sort of variable is called a ```string``` variable because it contains a string of characters. To define a string variable (simplest way) set the variable equal to some set of characters within quotes. Python will automatically assume that you intend for the variable to be a string of characters. \n",
    "```\n",
    "data1Color = \"tab:blue\"\n",
    "data2Color = \"tab:red\"\n",
    "```\n",
    "**Create a Figure with option for multiple plots**\n",
    "\n",
    "```figHist, axHist = plt.subplots()```\n",
    "\n",
    "This command does two things. It creates a overall object called a figure that contains all the plots I want to make. Within that figure are a number of axes objects which are the individual plots within the figure. If I have just one plot I create just one set of axes. In this case the figure is called figHist and the only 'plot' is called axHist.\n",
    "\n",
    "**Create a vertical line to indicate the mean:**\n",
    "\n",
    "We could certainly create a vertical line as a function but it's a common enough need that pyplot has a built in function to do this called, remarkably, ```vlines```. Here is the format and the meaning of the arguments.\n",
    "\n",
    "```\n",
    "axHist.vlines(data1mean,\n",
    "              0,\n",
    "              10,\n",
    "              color = data1Color,\n",
    "              linestyle = '-',\n",
    "              linewidth = 2.,\n",
    "              label = \"data1 mean\")\n",
    "axHist.vlines(data2mean,\n",
    "```\n",
    "argument 1: data1mean -- 'x' value where I want the vertical line placed -- the data1mean in this case\n",
    "arg2, arg3: minimum and maximum y values for the vertical line. In this case from 0 to 10. \n",
    "color, linestyle, linewidth, and label are standard style arguments that are similar in all pyplot commands.\n",
    "\n",
    "**Size of the Figure:**\n",
    "\n",
    "```figHist.set_size_inches(10, 9)```\n",
    "\n",
    "This command to the figure sets the physical size of the plot in inches. Amusingly or irritatingly, there is no direct metric equivalent such as set_size_cm. This allows me to control the size of the plot for visibility.\n",
    "\n",
    "**Show Grid Lines**\n",
    "\n",
    "```axHist.grid()```\n",
    "\n",
    "For each plot object you can choose to show the grid associated with your axis variables this can make it easier to see what the values are on the plot. I'm sure that are some interesting effects that I can get with the arguments for the grid command but I haven't explored them yet.\n",
    "\n",
    "**Legend**\n",
    "\n",
    "```plt.legend(loc=1)```\n",
    "\n",
    "The legend is a helpful tool for reminding the viewer which color or line represents what feature of your data. There are many options here but the only one I am using at the moment is the loc (location) argument. This tells pyplot where I want the legend to be placed on the plot. Mostly pyplot does pretty good putting it out of the way by default but if you need to control the location try changing the 1 (1 = top right) to other values. loc must be an integer from 1 to 9."
   ]
  },
  {
   "cell_type": "code",
   "execution_count": 158,
   "metadata": {},
   "outputs": [
    {
     "data": {
      "image/png": "[encoded data removed]",
      "text/plain": [
       "<Figure size 900x750 with 1 Axes>"
      ]
     },
     "metadata": {},
     "output_type": "display_data"
    }
   ],
   "source": [
    "# Choose my number of bins and the range of the histogram again.\n",
    "binEdges = [0,7,14,21,28,35,42,49,56,63,70]\n",
    "\n",
    "# Assign particular colors to each data set\n",
    "data1Color = \"tab:blue\"\n",
    "data2Color = \"tab:red\"\n",
    "data3Color = \"tab:green\"\n",
    "\n",
    "# Explicitly create a figure with a particular plot 'axHist' contained within the figure\n",
    "figHist, axHist = plt.subplots()\n",
    "height, bins, patches = axHist.hist([daysLate1,daysLate2,daysLate3],\n",
    "                                 binEdges,\n",
    "                                 histtype = \"bar\",\n",
    "                                 rwidth = 0.9,\n",
    "                                 color=[data1Color,data2Color,data3Color],\n",
    "                                 alpha= .8,\n",
    "                                 label=['daysLate1','daysLate2','daysLate3'])\n",
    "\n",
    "# Set the size of my plot for better visibility\n",
    "figHist.set_size_inches(9, 7.5)\n",
    "\n",
    "# turn on grid lines to help interpretation\n",
    "axHist.grid()\n",
    "\n",
    "# Label the figure\n",
    "plt.xlabel('days to submission')\n",
    "plt.ylabel('frequency')\n",
    "plt.title('Histogram of Submission Times')\n",
    "\n",
    "# uncomment this line if I want to save a png of the plot for other purposes\n",
    "#figHist.savefig(\"ENGR102Hist.png\")\n",
    "\n",
    "# show a legend for what the different parts of the plot mean. The legend grabs the 'lable'\n",
    "# from each plot command to create this\n",
    "plt.legend(loc=1)\n",
    "plt.show()"
   ]
  },
  {
   "cell_type": "code",
   "execution_count": null,
   "metadata": {},
   "outputs": [],
   "source": [
    "# Reminder -- we have already determined data1mean and data2mean\n",
    "# see previous cell for description of arguments.\n",
    "\n",
    "axHist.vlines(data1mean,\n",
    "              0,\n",
    "              10,\n",
    "              color = data1Color,\n",
    "              linestyle = '-',\n",
    "              linewidth = 2.,\n",
    "              label = \"data1 mean\")\n",
    "axHist.vlines(data2mean,\n",
    "              0,\n",
    "              10,\n",
    "              color = data2Color,\n",
    "              linestyle = '-',\n",
    "              linewidth = 2.,\n",
    "              label = \"data2 mean\")"
   ]
  },
  {
   "cell_type": "code",
   "execution_count": null,
   "metadata": {},
   "outputs": [],
   "source": []
  }
 ],
 "metadata": {
  "kernelspec": {
   "display_name": "Python 3 (ipykernel)",
   "language": "python",
   "name": "python3"
  },
  "language_info": {
   "codemirror_mode": {
    "name": "ipython",
    "version": 3
   },
   "file_extension": ".py",
   "mimetype": "text/x-python",
   "name": "python",
   "nbconvert_exporter": "python",
   "pygments_lexer": "ipython3",
   "version": "3.12.4"
  }
 },
 "nbformat": 4,
 "nbformat_minor": 4
}
